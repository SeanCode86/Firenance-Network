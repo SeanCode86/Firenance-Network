{
 "cells": [
  {
   "cell_type": "markdown",
   "metadata": {},
   "source": [
    "# 🔥Firecoin! Test Jupyter Notebook**\n",
    "\n",
    "**🔥Firecoin!** is based on mainly my own idea of implementing a Privacy Coin, in\n",
    "the way Bitcoin is as a cryptocurrency, in a finite number of coins available, to\n",
    "ideally it I want it to be a PoW Crytocurrency, in a way that complements and improves\n",
    "what Bitcoin is today. Its also my little way of learning crytography in general, in a\n",
    "wau that best suits me. We first give ourselves a 'first' cryptographic identity,\n",
    "in the form of usinf ECC secp256k1, which comes from the SHA Hashing family. ECCs are\n",
    "failry low dimensional mathematical objects & only take 3 integers to define.\n",
    "\n",
    "The code below, creates like 🔥Firecoin!('s) first like cryptographic identity:\n",
    "\n"
   ]
  },
  {
   "cell_type": "code",
   "execution_count": null,
   "metadata": {},
   "outputs": [],
   "source": [
    "from __future__ import annotations # PEP 563: Postponed Evaluation of Annotations\n",
    "from dataclasses import dataclass # https://docs.python.org/3/library/dataclasses.html\n",
    "\n",
    "# Define our crypto identity, using bitcoin's first\n",
    "# This snippet can be used to test out different shapes defines by the open standard\n",
    "\n",
    "@dataclass\n",
    "class Curve:\n",
    "    \"\"\"\n",
    "    Elliptic Curve over the field of integers modulo a prime.\n",
    "    Points on the curve satisfy y^2 = x^3 + a*x + b (mod p).\n",
    "    \"\"\"\n",
    "    p: int # the prime modulus of the finite field\n",
    "    a: int\n",
    "    b: int\n",
    "\n",
    "# secp256k1 uses a = 0, b = 7, so we're dealing with the curve y^2 = x^3 + 7 (mod p)\n",
    "bitcoin_curve = Curve(\n",
    "    p = 0xFFFFFFFFFFFFFFFFFFFFFFFFFFFFFFFFFFFFFFFFFFFFFFFFFFFFFFFEFFFFFC2F,\n",
    "    a = 0x0000000000000000000000000000000000000000000000000000000000000000, # a = 0\n",
    "    b = 0x0000000000000000000000000000000000000000000000000000000000000007, # b = 7\n",
    ")"
   ]
  },
  {
   "cell_type": "markdown",
   "metadata": {},
   "source": [
    "* In addition to the curve, we need to create a generator point, which will initiate the lock/unlock\n",
    "movement of the SECP256K1 shape. This is like a starting point. It is does a \"random walk\" around the curve. This makes the generator publically known and agreed upon. "
   ]
  },
  {
   "cell_type": "code",
   "execution_count": null,
   "metadata": {},
   "outputs": [],
   "source": [
    "@dataclass\n",
    "class Point:\n",
    "    \"\"\" An integer point (x,y) on a Curve \"\"\"\n",
    "    \n",
    "    curve: Curve\n",
    "    x: int\n",
    "    y: int\n",
    "\n",
    "G = Point(\n",
    "    bitcoin_curve,\n",
    "    x = 0x79BE667EF9DCBBAC55A06295CE870B07029BFCDB2DCE28D959F2815B16F81798,\n",
    "    y = 0x483ada7726a3c4655da4fbfc0e1108a8fd17b448a68554199c47d08ffb10d4b8,\n",
    ")"
   ]
  },
  {
   "cell_type": "markdown",
   "metadata": {},
   "source": [
    "**Curve 'Random Walk' Test**\n",
    "\n",
    "* Check if there another point, is not on the curve"
   ]
  },
  {
   "cell_type": "code",
   "execution_count": null,
   "metadata": {},
   "outputs": [
    {
     "ename": "",
     "evalue": "",
     "output_type": "error",
     "traceback": [
      "\u001b[1;31mRunning cells with 'Python 3.10.8 64-bit (microsoft store)' requires ipykernel package.\n",
      "\u001b[1;31mRun the following command to install 'ipykernel' into the Python environment. \n",
      "\u001b[1;31mCommand: 'c:/Users/WalterBlack/AppData/Local/Microsoft/WindowsApps/python3.10.exe -m pip install ipykernel -U --force-reinstall'"
     ]
    }
   ],
   "source": [
    "import random\n",
    "\n",
    "# Function to test Gen Point is on ECC\n",
    "def gen_onPoint():\n",
    "\n",
    "    # * --------------- * #\n",
    "    \"\"\" \n",
    "         IS GEn Point on ECC?\n",
    "    \"\"\"\n",
    "    # * --------------- * #\n",
    "\n",
    "    print(\"Generator IS on the curve: \",\n",
    "    \n",
    "     (G.y**2 - G.x**3 - 7) % \n",
    "     bitcoin_curve.p == 0\n",
    "    )\n",
    "\n",
    "\n",
    "# Put code neatly into a function\n",
    "def test_for_randomPoint():\n",
    "\n",
    "    # * -------------- * #\n",
    "    \"\"\" Quick little tester \n",
    "        function \n",
    "    \"\"\"\n",
    "    # * -------------- * #\n",
    "\n",
    "    random.seed(1337) # Our Random Point to test NOT \n",
    "\n",
    "    x = random.randrange(0,\n",
    "        bitcoin_curve.p\n",
    "    )\n",
    "\n",
    "    y = random.randrange(0, \n",
    "        bitcoin_curve.p\n",
    "    )\n",
    "\n",
    "    print(\"Totally random point is not: \",\n",
    "\n",
    "        (y**2 - x**3 - 7) %\n",
    "         bitcoin_curve.p == 0\n",
    "    )\n",
    "\n",
    "# Main Event Loop of Unit Test\n",
    "def main():\n",
    "\n",
    "    # * --------------------- * #\n",
    "    \"\"\" Run the above functions into\n",
    "        main event loop for cleansiness\n",
    "    \"\"\"\n",
    "    # * --------------------- * #\n",
    "\n",
    "    # Test Gen on Curve\n",
    "    gen_onPoint()\n",
    "    # Test if Random Point is NOT on ECC\n",
    "    test_for_randomPoint()\n",
    "\n",
    "if __name__ = '__main__':\n",
    "    main()"
   ]
  },
  {
   "cell_type": "markdown",
   "metadata": {},
   "source": []
  }
 ],
 "metadata": {
  "kernelspec": {
   "display_name": "Python 3.10.8 64-bit (microsoft store)",
   "language": "python",
   "name": "python3"
  },
  "language_info": {
   "name": "python",
   "version": "3.10.8"
  },
  "orig_nbformat": 4,
  "vscode": {
   "interpreter": {
    "hash": "6b25f6fbfe3926c12fb9ed931d4b80af6619eb67d7a7d14750c7ca5dcbad38ba"
   }
  }
 },
 "nbformat": 4,
 "nbformat_minor": 2
}
