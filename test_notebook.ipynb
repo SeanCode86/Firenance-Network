{
 "cells": [
  {
   "cell_type": "markdown",
   "metadata": {},
   "source": [
    "# 🔥Firecoin! Test Notebook\n",
    "\n",
    "\n",
    "* **Non-Technical Whitepaper -** https://docs.google.com/document/d/1xCN0LuelHqnGxnUl9G7-snkviGvHZEzFQxT5y3hWkxc/edit?usp=sharing\n",
    "\n",
    "* **Technical Whitepaper -** *I haven't as of yet writing one, the whole Proof-of-Concept is\n",
    "still in the brainstorming & philosphical stages of development.*\n",
    "\n",
    "**🔥Firecoin!** is based on mainly my own idea of implementing a Privacy Coin, in\n",
    "the way Bitcoin is as a cryptocurrency, in a finite number of coins available, so\n",
    "ideally it I want it to be a PoW Crytocurrency, in a way that complements and improves\n",
    "what Bitcoin is today. Its also my little way of learning crytography in general, in a\n",
    "way that best suits me. We first give ourselves a 'first' cryptographic identity (in the form of what ellipticak shape we are going to compute),\n",
    "in the form of using ECC SECP256k1, which comes from the SHA Hashing family. ECCs are\n",
    "failry low dimensional mathematical objects & only take x3 integers to define.\n",
    "\n",
    "* The code below, creates like 🔥Firecoin!'s first like cryptographic identity, with which we will build upon, as time goes along.\n",
    "* We do this by establisjing what ECC we want, before we append to points to 'walk' on it.\n",
    "\n"
   ]
  },
  {
   "cell_type": "code",
   "execution_count": 5,
   "metadata": {},
   "outputs": [],
   "source": [
    "from __future__ import annotations # PEP 563: Postponed Evaluation of Annotations\n",
    "from dataclasses import dataclass # https://docs.python.org/3/library/dataclasses.html\n",
    "from colorama import Fore, Back, Style  # For different color for terminal and logger out\n",
    "\n",
    "# Define our crypto identity, using bitcoin's first\n",
    "# This snippet can be used to test out different shapes defines by the open standard\n",
    "\n",
    "@dataclass\n",
    "class Curve:\n",
    "    \"\"\"\n",
    "    Elliptic Curve over the field of integers modulo a prime.\n",
    "    Points on the curve satisfy y^2 = x^3 + a*x + b (mod p).\n",
    "    \"\"\"\n",
    "    p: int # the prime modulus of the finite field\n",
    "    a: int # Opening up the zero point\n",
    "    b: int\n",
    "\n",
    "# secp256k1 uses a = 0, b = 7, so we're dealing with the curve y^2 = x^3 + 7 (mod p)\n",
    "bitcoin_curve = Curve(\n",
    "    p = 0xFFFFFFFFFFFFFFFFFFFFFFFFFFFFFFFFFFFFFFFFFFFFFFFFFFFFFFFEFFFFFC2F,\n",
    "    a = 0x0000000000000000000000000000000000000000000000000000000000000000, # a = 0\n",
    "    b = 0x0000000000000000000000000000000000000000000000000000000000000007, # b = 7\n",
    ")"
   ]
  },
  {
   "cell_type": "markdown",
   "metadata": {},
   "source": [
    "* In addition to the curve, we need to create a generator point, which will initiate the lock/unlock\n",
    "movement of the SECP256K1 shape. This is like a starting point. It is does a \"random walk\" around the curve. This makes the generator publically known and agreed upon. "
   ]
  },
  {
   "cell_type": "markdown",
   "metadata": {},
   "source": [
    "**🔥Curve 'Random Walk' Firetest!**\n",
    "\n",
    "* Check if there is another point, *NOT* on the curve"
   ]
  },
  {
   "cell_type": "code",
   "execution_count": 15,
   "metadata": {},
   "outputs": [
    {
     "name": "stdout",
     "output_type": "stream",
     "text": [
      "Generator ON?:  True\n",
      "Random P ON?:  False\n",
      "\n",
      " [LOG] - Generation Point is Set!\n",
      " [LOG] - No Random Point is on the Curve!\n"
     ]
    }
   ],
   "source": [
    "@dataclass\n",
    "class Point:\n",
    "    \"\"\" An integer point (x,y) on a Curve \"\"\"\n",
    "    \n",
    "    curve: Curve\n",
    "    x: int\n",
    "    y: int\n",
    "\n",
    "G = Point(\n",
    "    bitcoin_curve,\n",
    "    x = 0x79BE667EF9DCBBAC55A06295CE870B07029BFCDB2DCE28D959F2815B16F81798,\n",
    "    y = 0x483ada7726a3c4655da4fbfc0e1108a8fd17b448a68554199c47d08ffb10d4b8,\n",
    ")\n",
    "\n",
    "def gen_on_point():\n",
    "\n",
    "    # we can verify that the generator point is indeed on the curve,\n",
    "    #  I.E. y^2 = x^3 + 7 (mod p)\n",
    "    print(\n",
    "\n",
    "        \"Generator ON?: \",\n",
    "        # Does this flip or modulus back to 0?\n",
    "        (G.y**2 - G.x**3 - 7) % \n",
    "        bitcoin_curve.p == 0\n",
    "    )\n",
    "\n",
    "def random_point_not(): \n",
    "\n",
    "    # some other totally random point will of course\n",
    "    # not be on the curve, _MOST_ likely\n",
    "    import random\n",
    "    random.seed(1337)\n",
    "\n",
    "    # Put random point on X-Axis\n",
    "    x = random.randrange(0,\n",
    "        bitcoin_curve.p\n",
    "    )\n",
    "    \n",
    "    # Put random point on Y-Axis\n",
    "    y = random.randrange(0, \n",
    "        bitcoin_curve.p\n",
    "    )\n",
    "\n",
    "    print(\n",
    "\n",
    "        \"Random P ON?: \", \n",
    "        # Does this flip or modulus back to 0?\n",
    "        (y**2 - x**3 - 7) % \n",
    "        bitcoin_curve.p == 0\n",
    "    )\n",
    "\n",
    "def main():\n",
    "\n",
    "    import time\n",
    "\n",
    "    gen_on_point()\n",
    "    random_point_not()\n",
    "\n",
    "    time.sleep(1.5)\n",
    "\n",
    "    print(\"\\n [LOG] - Generation Point is Set!\")\n",
    "    print(\" [LOG] - No Random Point is on the Curve!\")\n",
    "\n",
    "if __name__ == '__main__':\n",
    "    main()"
   ]
  },
  {
   "cell_type": "markdown",
   "metadata": {},
   "source": [
    "**🔥Generator/Size of Ellliptical Curve**\n",
    "\n",
    "* The point of G is now known, and is effectively the size of the set we are going to use.\n",
    "* In turn, we are making integer tuples (x & y) go arounf the cycle of the SECP-K! Elliptical   Curve.\n",
    "* So we make another dataclass, to kinda wrap it, to specially make a unquie Generation for our digital coin to cryptographic (as so to be able to generate a Private Key) \n",
    "\n"
   ]
  },
  {
   "cell_type": "code",
   "execution_count": 24,
   "metadata": {},
   "outputs": [
    {
     "name": "stdout",
     "output_type": "stream",
     "text": [
      "Generator Created?: TRUE\n",
      " [LOG] - Generator created from POINT! \n"
     ]
    }
   ],
   "source": [
    "@dataclass\n",
    "class Generator:\n",
    "    \"\"\"\n",
    "    A generator over a curve: an initial point and the (pre-computed) order\n",
    "\n",
    "    \"\"\"\n",
    "    G: Point     # a generator point on the curve\n",
    "    n: int       # the order of the generating point, so 0*G = n*G = INF\n",
    "\n",
    "bitcoin_gen = Generator(\n",
    "    G = G,\n",
    "    # the order of G is known and can be mathematically derived\n",
    "    n = 0xFFFFFFFFFFFFFFFFFFFFFFFFFFFFFFFEBAAEDCE6AF48A03BBFD25E8CD0364141,\n",
    ")\n",
    "\n",
    "# Test if Point is made into a Generation\n",
    "def test_gen():\n",
    "\n",
    "    genset_create = G\n",
    "\n",
    "    if genset_create:\n",
    "        print(\"Generator Created?: \" + \\\n",
    "            str(genset_create == G).upper() + \\\n",
    "            \"\\n [LOG] - Generator created from POINT! \"\n",
    "        )\n",
    "    else:\n",
    "        print(\"Generator Created?: \" + \\\n",
    "            str(genset_create == G).upper() + \\\n",
    "            \"\\n [LOG] - Generator from Point :-(\"\n",
    "        )\n",
    "\n",
    "def main():\n",
    "    test_gen()\n",
    "\n",
    "if __name__ == \"__main__\":\n",
    "    main()\n",
    "    "
   ]
  },
  {
   "cell_type": "markdown",
   "metadata": {},
   "source": [
    "**🔥Private Key Generation**\n",
    "\n",
    "We haven't done much other than define the data structures we are using to first have a bash at developing 🔥Firecoin! properly. "
   ]
  }
 ],
 "metadata": {
  "kernelspec": {
   "display_name": "Python 3.9.15 (conda)",
   "language": "python",
   "name": "python3"
  },
  "language_info": {
   "codemirror_mode": {
    "name": "ipython",
    "version": 3
   },
   "file_extension": ".py",
   "mimetype": "text/x-python",
   "name": "python",
   "nbconvert_exporter": "python",
   "pygments_lexer": "ipython3",
   "version": "3.9.15"
  },
  "orig_nbformat": 4,
  "vscode": {
   "interpreter": {
    "hash": "35d2f33955a2e4a04199e068a2a956c755405fcacefcb7d694f3f91f4ae375aa"
   }
  }
 },
 "nbformat": 4,
 "nbformat_minor": 2
}
